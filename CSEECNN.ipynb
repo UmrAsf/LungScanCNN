{
  "nbformat": 4,
  "nbformat_minor": 0,
  "metadata": {
    "colab": {
      "provenance": [],
      "authorship_tag": "ABX9TyOsqka2ZpcuJyvR6pAG5CU9",
      "include_colab_link": true
    },
    "kernelspec": {
      "name": "python3",
      "display_name": "Python 3"
    },
    "language_info": {
      "name": "python"
    }
  },
  "cells": [
    {
      "cell_type": "markdown",
      "metadata": {
        "id": "view-in-github",
        "colab_type": "text"
      },
      "source": [
        "<a href=\"https://colab.research.google.com/github/UmrAsf/LungScanCNN/blob/main/CSEECNN.ipynb\" target=\"_parent\"><img src=\"https://colab.research.google.com/assets/colab-badge.svg\" alt=\"Open In Colab\"/></a>"
      ]
    },
    {
      "cell_type": "code",
      "execution_count": 1,
      "metadata": {
        "colab": {
          "base_uri": "https://localhost:8080/"
        },
        "id": "PL24cGGN5DGY",
        "outputId": "cafe6983-8b03-4c02-dd12-b38b672a11f2"
      },
      "outputs": [
        {
          "output_type": "stream",
          "name": "stdout",
          "text": [
            "Mounted at /content/drive\n"
          ]
        }
      ],
      "source": [
        "from google.colab import drive\n",
        "drive.mount('/content/drive')"
      ]
    },
    {
      "cell_type": "code",
      "source": [
        "import zipfile\n",
        "\n",
        "zip_path = '/content/drive/My Drive/archive.zip'  # Replace with actual path\n",
        "with zipfile.ZipFile(zip_path, 'r') as zip_ref:\n",
        "    zip_ref.extractall('/content')  # Extracts contents to /content in Colab"
      ],
      "metadata": {
        "id": "-E7Mijec5GBl"
      },
      "execution_count": 2,
      "outputs": []
    },
    {
      "cell_type": "code",
      "source": [
        "train_dir = '/content/chest_xray/train'\n",
        "val_dir = '/content/chest_xray/val'\n",
        "test_dir = '/content/chest_xray/test'"
      ],
      "metadata": {
        "id": "romLPSTH7zWv"
      },
      "execution_count": 3,
      "outputs": []
    },
    {
      "cell_type": "code",
      "source": [
        "# Import necessary libraries\n",
        "import tensorflow as tf\n",
        "from tensorflow.keras.models import Model\n",
        "from tensorflow.keras.layers import Dense, GlobalAveragePooling2D, Input\n",
        "from tensorflow.keras.preprocessing.image import ImageDataGenerator\n",
        "from sklearn.metrics import confusion_matrix\n",
        "import numpy as np\n",
        "import matplotlib.pyplot as plt\n",
        "import seaborn as sns\n",
        "\n",
        "# Define the paths to the dataset directories\n",
        "train_dir = '/content/chest_xray/train'  # Only using train_dir here\n",
        "\n",
        "# Set image dimensions and batch size\n",
        "IMG_HEIGHT, IMG_WIDTH = 224, 224  # MobileNetV2 input size\n",
        "BATCH_SIZE = 32\n",
        "\n",
        "# Set up data generator with validation split\n",
        "train_datagen = ImageDataGenerator(\n",
        "    rescale=1./255,\n",
        "    rotation_range=20,\n",
        "    brightness_range=[1.2, 1.5],\n",
        "    horizontal_flip=True,\n",
        "    validation_split=0.2  # Use 20% of training data as validation\n",
        ")\n",
        "\n",
        "# Load training and validation data using subset\n",
        "train_generator = train_datagen.flow_from_directory(\n",
        "    train_dir,\n",
        "    target_size=(IMG_HEIGHT, IMG_WIDTH),\n",
        "    color_mode='rgb',\n",
        "    batch_size=BATCH_SIZE,\n",
        "    class_mode='binary',\n",
        "    subset='training'\n",
        ")\n",
        "\n",
        "val_generator = train_datagen.flow_from_directory(\n",
        "    train_dir,\n",
        "    target_size=(IMG_HEIGHT, IMG_WIDTH),\n",
        "    color_mode='rgb',\n",
        "    batch_size=BATCH_SIZE,\n",
        "    class_mode='binary',\n",
        "    subset='validation'\n",
        ")\n",
        "\n",
        "# Load MobileNetV2 without the top layer for transfer learning\n",
        "base_model = tf.keras.applications.MobileNetV2(\n",
        "    input_shape=(IMG_HEIGHT, IMG_WIDTH, 3),\n",
        "    include_top=False,\n",
        "    weights='imagenet'\n",
        ")\n",
        "base_model.trainable = False  # Freeze the base model layers\n",
        "\n",
        "# Add custom classification layers\n",
        "inputs = Input(shape=(IMG_HEIGHT, IMG_WIDTH, 3))\n",
        "x = base_model(inputs, training=False)\n",
        "x = GlobalAveragePooling2D()(x)  # Pooling layer\n",
        "x = Dense(1024, activation='relu')(x)  # Dense layer\n",
        "outputs = Dense(1, activation='sigmoid')(x)  # Output layer for binary classification\n",
        "\n",
        "model = Model(inputs, outputs)\n",
        "\n",
        "# Compile the model\n",
        "model.compile(optimizer='adam', loss='binary_crossentropy', metrics=['accuracy', tf.keras.metrics.AUC(name=\"auc\")])\n",
        "\n",
        "# Set up early stopping to prevent overfitting\n",
        "early_stopping = tf.keras.callbacks.EarlyStopping(\n",
        "    monitor='val_loss',\n",
        "    patience=10,\n",
        "    restore_best_weights=True\n",
        ")\n",
        "\n",
        "# Calculate steps based on samples and batch size\n",
        "steps_per_epoch = train_generator.samples // BATCH_SIZE\n",
        "validation_steps = val_generator.samples // BATCH_SIZE\n",
        "\n",
        "# Train the model\n",
        "history = model.fit(\n",
        "    train_generator,\n",
        "    steps_per_epoch=steps_per_epoch,  # Calculated based on batch size\n",
        "    epochs=15,\n",
        "    validation_data=val_generator,\n",
        "    validation_steps=validation_steps,  # Calculated based on batch size\n",
        "    callbacks=[early_stopping]\n",
        ")\n",
        "\n",
        "\n",
        "# Evaluate the model on test data (use val_generator if you don't have a separate test set)\n",
        "test_loss, test_accuracy, test_auc = model.evaluate(val_generator, verbose=0)\n",
        "print(f\"Validation Accuracy: {test_accuracy:.2f}, AUC: {test_auc:.2f}\")\n",
        "\n",
        "# Generate confusion matrix\n",
        "y_true = val_generator.classes\n",
        "y_pred = model.predict(val_generator)\n",
        "y_pred = np.round(y_pred).flatten()  # Threshold at 0.5 for binary classification\n",
        "\n",
        "# Plot confusion matrix\n",
        "\n",
        "# Plot confusion matrix\n",
        "cm = confusion_matrix(y_true, y_pred)\n",
        "plt.figure(figsize=(6,6))\n",
        "sns.heatmap(cm, annot=True, fmt='d', cmap='Blues', xticklabels=['Normal', 'Pneumonia'], yticklabels=['Normal', 'Pneumonia'])\n",
        "plt.xlabel('Predicted')\n",
        "plt.ylabel('Actual')\n",
        "plt.title('Confusion Matrix')\n",
        "plt.show()"
      ],
      "metadata": {
        "colab": {
          "base_uri": "https://localhost:8080/",
          "height": 1000
        },
        "id": "W_GkmRPh8Ltd",
        "outputId": "c3342bcf-15e9-4828-ab16-70c6993683aa"
      },
      "execution_count": 4,
      "outputs": [
        {
          "output_type": "stream",
          "name": "stdout",
          "text": [
            "Found 4173 images belonging to 2 classes.\n",
            "Found 1043 images belonging to 2 classes.\n",
            "Downloading data from https://storage.googleapis.com/tensorflow/keras-applications/mobilenet_v2/mobilenet_v2_weights_tf_dim_ordering_tf_kernels_1.0_224_no_top.h5\n",
            "\u001b[1m9406464/9406464\u001b[0m \u001b[32m━━━━━━━━━━━━━━━━━━━━\u001b[0m\u001b[37m\u001b[0m \u001b[1m0s\u001b[0m 0us/step\n"
          ]
        },
        {
          "output_type": "stream",
          "name": "stderr",
          "text": [
            "/usr/local/lib/python3.12/dist-packages/keras/src/trainers/data_adapters/py_dataset_adapter.py:121: UserWarning: Your `PyDataset` class should call `super().__init__(**kwargs)` in its constructor. `**kwargs` can include `workers`, `use_multiprocessing`, `max_queue_size`. Do not pass these arguments to `fit()`, as they will be ignored.\n",
            "  self._warn_if_super_not_called()\n"
          ]
        },
        {
          "output_type": "stream",
          "name": "stdout",
          "text": [
            "Epoch 1/15\n",
            "\u001b[1m130/130\u001b[0m \u001b[32m━━━━━━━━━━━━━━━━━━━━\u001b[0m\u001b[37m\u001b[0m \u001b[1m340s\u001b[0m 3s/step - accuracy: 0.8990 - auc: 0.9446 - loss: 0.2514 - val_accuracy: 0.9463 - val_auc: 0.9913 - val_loss: 0.1235\n",
            "Epoch 2/15\n",
            "\u001b[1m  1/130\u001b[0m \u001b[37m━━━━━━━━━━━━━━━━━━━━\u001b[0m \u001b[1m2:28\u001b[0m 1s/step - accuracy: 1.0000 - auc: 1.0000 - loss: 0.0433"
          ]
        },
        {
          "output_type": "stream",
          "name": "stderr",
          "text": [
            "/usr/local/lib/python3.12/dist-packages/keras/src/trainers/epoch_iterator.py:116: UserWarning: Your input ran out of data; interrupting training. Make sure that your dataset or generator can generate at least `steps_per_epoch * epochs` batches. You may need to use the `.repeat()` function when building your dataset.\n",
            "  self._interrupted_warning()\n"
          ]
        },
        {
          "output_type": "stream",
          "name": "stdout",
          "text": [
            "\b\b\b\b\b\b\b\b\b\b\b\b\b\b\b\b\b\b\b\b\b\b\b\b\b\b\b\b\b\b\b\b\b\b\b\b\b\b\b\b\b\b\b\b\b\b\b\b\b\b\b\b\b\b\b\b\b\b\b\b\b\b\b\b\b\b\b\b\b\b\b\b\b\b\b\b\b\b\b\b\b\b\b\b\b\b\b\b\b\r\u001b[1m130/130\u001b[0m \u001b[32m━━━━━━━━━━━━━━━━━━━━\u001b[0m\u001b[37m\u001b[0m \u001b[1m65s\u001b[0m 497ms/step - accuracy: 1.0000 - auc: 1.0000 - loss: 0.0433 - val_accuracy: 0.9590 - val_auc: 0.9900 - val_loss: 0.1148\n",
            "Epoch 3/15\n",
            "\u001b[1m130/130\u001b[0m \u001b[32m━━━━━━━━━━━━━━━━━━━━\u001b[0m\u001b[37m\u001b[0m \u001b[1m330s\u001b[0m 3s/step - accuracy: 0.9576 - auc: 0.9883 - loss: 0.1192 - val_accuracy: 0.9521 - val_auc: 0.9906 - val_loss: 0.1107\n",
            "Epoch 4/15\n",
            "\u001b[1m130/130\u001b[0m \u001b[32m━━━━━━━━━━━━━━━━━━━━\u001b[0m\u001b[37m\u001b[0m \u001b[1m81s\u001b[0m 613ms/step - accuracy: 0.9688 - auc: 0.9732 - loss: 0.1459 - val_accuracy: 0.9521 - val_auc: 0.9917 - val_loss: 0.1140\n",
            "Epoch 5/15\n",
            "\u001b[1m130/130\u001b[0m \u001b[32m━━━━━━━━━━━━━━━━━━━━\u001b[0m\u001b[37m\u001b[0m \u001b[1m329s\u001b[0m 3s/step - accuracy: 0.9631 - auc: 0.9913 - loss: 0.0959 - val_accuracy: 0.9473 - val_auc: 0.9911 - val_loss: 0.1220\n",
            "Epoch 6/15\n",
            "\u001b[1m130/130\u001b[0m \u001b[32m━━━━━━━━━━━━━━━━━━━━\u001b[0m\u001b[37m\u001b[0m \u001b[1m82s\u001b[0m 620ms/step - accuracy: 0.9688 - auc: 0.9926 - loss: 0.0701 - val_accuracy: 0.9648 - val_auc: 0.9951 - val_loss: 0.0838\n",
            "Epoch 7/15\n",
            "\u001b[1m130/130\u001b[0m \u001b[32m━━━━━━━━━━━━━━━━━━━━\u001b[0m\u001b[37m\u001b[0m \u001b[1m328s\u001b[0m 3s/step - accuracy: 0.9622 - auc: 0.9925 - loss: 0.0947 - val_accuracy: 0.9521 - val_auc: 0.9927 - val_loss: 0.1225\n",
            "Epoch 8/15\n",
            "\u001b[1m130/130\u001b[0m \u001b[32m━━━━━━━━━━━━━━━━━━━━\u001b[0m\u001b[37m\u001b[0m \u001b[1m65s\u001b[0m 492ms/step - accuracy: 1.0000 - auc: 1.0000 - loss: 0.0515 - val_accuracy: 0.9512 - val_auc: 0.9937 - val_loss: 0.1140\n",
            "Epoch 9/15\n",
            "\u001b[1m130/130\u001b[0m \u001b[32m━━━━━━━━━━━━━━━━━━━━\u001b[0m\u001b[37m\u001b[0m \u001b[1m384s\u001b[0m 3s/step - accuracy: 0.9640 - auc: 0.9931 - loss: 0.0934 - val_accuracy: 0.9570 - val_auc: 0.9954 - val_loss: 0.0936\n",
            "Epoch 10/15\n",
            "\u001b[1m130/130\u001b[0m \u001b[32m━━━━━━━━━━━━━━━━━━━━\u001b[0m\u001b[37m\u001b[0m \u001b[1m66s\u001b[0m 495ms/step - accuracy: 0.9375 - auc: 0.9864 - loss: 0.1564 - val_accuracy: 0.9424 - val_auc: 0.9923 - val_loss: 0.1434\n",
            "Epoch 11/15\n",
            "\u001b[1m130/130\u001b[0m \u001b[32m━━━━━━━━━━━━━━━━━━━━\u001b[0m\u001b[37m\u001b[0m \u001b[1m382s\u001b[0m 3s/step - accuracy: 0.9648 - auc: 0.9932 - loss: 0.0910 - val_accuracy: 0.9316 - val_auc: 0.9921 - val_loss: 0.1806\n",
            "Epoch 12/15\n",
            "\u001b[1m130/130\u001b[0m \u001b[32m━━━━━━━━━━━━━━━━━━━━\u001b[0m\u001b[37m\u001b[0m \u001b[1m67s\u001b[0m 508ms/step - accuracy: 1.0000 - auc: 1.0000 - loss: 0.0280 - val_accuracy: 0.9170 - val_auc: 0.9894 - val_loss: 0.2347\n",
            "Epoch 13/15\n",
            "\u001b[1m130/130\u001b[0m \u001b[32m━━━━━━━━━━━━━━━━━━━━\u001b[0m\u001b[37m\u001b[0m \u001b[1m375s\u001b[0m 3s/step - accuracy: 0.9631 - auc: 0.9911 - loss: 0.0935 - val_accuracy: 0.9609 - val_auc: 0.9944 - val_loss: 0.0867\n",
            "Epoch 14/15\n",
            "\u001b[1m130/130\u001b[0m \u001b[32m━━━━━━━━━━━━━━━━━━━━\u001b[0m\u001b[37m\u001b[0m \u001b[1m67s\u001b[0m 509ms/step - accuracy: 1.0000 - auc: 1.0000 - loss: 0.0327 - val_accuracy: 0.9600 - val_auc: 0.9950 - val_loss: 0.1041\n",
            "Epoch 15/15\n",
            "\u001b[1m130/130\u001b[0m \u001b[32m━━━━━━━━━━━━━━━━━━━━\u001b[0m\u001b[37m\u001b[0m \u001b[1m328s\u001b[0m 3s/step - accuracy: 0.9704 - auc: 0.9936 - loss: 0.0847 - val_accuracy: 0.9619 - val_auc: 0.9904 - val_loss: 0.1021\n",
            "Validation Accuracy: 0.97, AUC: 0.99\n",
            "\u001b[1m33/33\u001b[0m \u001b[32m━━━━━━━━━━━━━━━━━━━━\u001b[0m\u001b[37m\u001b[0m \u001b[1m68s\u001b[0m 2s/step\n"
          ]
        },
        {
          "output_type": "display_data",
          "data": {
            "text/plain": [
              "<Figure size 600x600 with 2 Axes>"
            ],
            "image/png": "[encoded data removed]"
          },
          "metadata": {}
        }
      ]
    },
    {
      "cell_type": "code",
      "source": [
        "# Import necessary libraries\n",
        "import tensorflow as tf\n",
        "from tensorflow.keras.models import Model\n",
        "from tensorflow.keras.layers import Dense, GlobalAveragePooling2D, Input\n",
        "from tensorflow.keras.preprocessing.image import ImageDataGenerator\n",
        "from sklearn.utils import class_weight\n",
        "from sklearn.metrics import confusion_matrix\n",
        "import numpy as np\n",
        "import matplotlib.pyplot as plt\n",
        "import seaborn as sns\n",
        "\n",
        "# Define the paths to the dataset directories\n",
        "train_dir = '/content/chest_xray/train'\n",
        "\n",
        "# Set image dimensions and batch size\n",
        "IMG_HEIGHT, IMG_WIDTH = 128, 128  # Using MobileNetV2 input size\n",
        "BATCH_SIZE = 32\n",
        "\n",
        "# Set up data generator with additional augmentations\n",
        "train_datagen = ImageDataGenerator(\n",
        "    rescale=1./255,\n",
        "    rotation_range=30,\n",
        "    zoom_range=0.2,\n",
        "    shear_range=0.2,\n",
        "    brightness_range=[0.8, 1.2],\n",
        "    horizontal_flip=True,\n",
        "    validation_split=0.2  # 20% of training data as validation\n",
        ")\n",
        "\n",
        "# Create training and validation generators\n",
        "train_generator = train_datagen.flow_from_directory(\n",
        "    train_dir,\n",
        "    target_size=(IMG_HEIGHT, IMG_WIDTH),\n",
        "    color_mode='rgb',\n",
        "    batch_size=BATCH_SIZE,\n",
        "    class_mode='binary',\n",
        "    subset='training'\n",
        ")\n",
        "\n",
        "val_generator = train_datagen.flow_from_directory(\n",
        "    train_dir,\n",
        "    target_size=(IMG_HEIGHT, IMG_WIDTH),\n",
        "    color_mode='rgb',\n",
        "    batch_size=BATCH_SIZE,\n",
        "    class_mode='binary',\n",
        "    subset='validation'\n",
        ")\n",
        "\n",
        "# Calculate class weights for imbalanced data\n",
        "class_weights = class_weight.compute_class_weight(\n",
        "    class_weight='balanced',\n",
        "    classes=np.unique(train_generator.classes),\n",
        "    y=train_generator.classes\n",
        ")\n",
        "class_weights = dict(enumerate(class_weights))\n",
        "\n",
        "# Load MobileNetV2 without the top layer for transfer learning\n",
        "base_model = tf.keras.applications.MobileNetV2(\n",
        "    input_shape=(IMG_HEIGHT, IMG_WIDTH, 3),\n",
        "    include_top=False,\n",
        "    weights='imagenet'\n",
        ")\n",
        "\n",
        "# Unfreeze the last few layers of the base model for fine-tuning\n",
        "for layer in base_model.layers[:-10]:  # Adjust -10 based on available memory\n",
        "    layer.trainable = False\n",
        "base_model.trainable = True\n",
        "\n",
        "# Add custom classification layers\n",
        "inputs = Input(shape=(IMG_HEIGHT, IMG_WIDTH, 3))\n",
        "x = base_model(inputs, training=True)\n",
        "x = GlobalAveragePooling2D()(x)  # Pooling layer\n",
        "x = Dense(1024, activation='relu')(x)  # Dense layer\n",
        "outputs = Dense(1, activation='sigmoid')(x)  # Output layer for binary classification\n",
        "\n",
        "model = Model(inputs, outputs)\n",
        "\n",
        "# Compile the model with a lower learning rate\n",
        "model.compile(optimizer=tf.keras.optimizers.Adam(learning_rate=1e-5),\n",
        "              loss='binary_crossentropy',\n",
        "              metrics=['accuracy', tf.keras.metrics.AUC(name=\"auc\")])\n",
        "\n",
        "# Set up callbacks: Early Stopping and ReduceLROnPlateau\n",
        "early_stopping = tf.keras.callbacks.EarlyStopping(\n",
        "    monitor='val_loss',\n",
        "    patience=5,\n",
        "    restore_best_weights=True\n",
        ")\n",
        "\n",
        "lr_schedule = tf.keras.callbacks.ReduceLROnPlateau(\n",
        "    monitor='val_loss',\n",
        "    factor=0.5,\n",
        "    patience=3,\n",
        "    min_lr=1e-6\n",
        ")\n",
        "\n",
        "# Calculate steps per epoch\n",
        "steps_per_epoch = train_generator.samples // BATCH_SIZE\n",
        "validation_steps = val_generator.samples // BATCH_SIZE\n",
        "\n",
        "# Train the model\n",
        "history = model.fit(\n",
        "    train_generator,\n",
        "    steps_per_epoch=steps_per_epoch,\n",
        "    epochs=15,  # Change to a higher number if needed\n",
        "    validation_data=val_generator,\n",
        "    validation_steps=validation_steps,\n",
        "    class_weight=class_weights,  # Apply class weights\n",
        "    callbacks=[early_stopping, lr_schedule]\n",
        ")\n",
        "\n",
        "# Evaluate the model on validation data\n",
        "val_loss, val_accuracy, val_auc = model.evaluate(val_generator, verbose=0)\n",
        "print(f\"Validation Accuracy: {val_accuracy:.2f}, AUC: {val_auc:.2f}\")\n",
        "\n",
        "# Generate confusion matrix\n",
        "y_true = val_generator.classes\n",
        "y_pred = model.predict(val_generator)\n",
        "y_pred = np.round(y_pred).flatten()  # Threshold at 0.5 for binary classification\n",
        "\n",
        "# Plot confusion matrix\n",
        "cm = confusion_matrix(y_true, y_pred)\n",
        "plt.figure(figsize=(6,6))\n",
        "sns.heatmap(cm, annot=True, fmt='d', cmap='Blues', xticklabels=['Normal', 'Pneumonia'], yticklabels=['Normal', 'Pneumonia'])\n",
        "plt.xlabel('Predicted')\n",
        "plt.ylabel('Actual')\n",
        "plt.title('Confusion Matrix')\n",
        "plt.show()"
      ],
      "metadata": {
        "colab": {
          "base_uri": "https://localhost:8080/",
          "height": 1000
        },
        "id": "1GmExoRCFOMY",
        "outputId": "7d16fbcc-c509-4444-c6cc-ce37fcc1fd24"
      },
      "execution_count": 5,
      "outputs": [
        {
          "output_type": "stream",
          "name": "stdout",
          "text": [
            "Found 4173 images belonging to 2 classes.\n",
            "Found 1043 images belonging to 2 classes.\n",
            "Downloading data from https://storage.googleapis.com/tensorflow/keras-applications/mobilenet_v2/mobilenet_v2_weights_tf_dim_ordering_tf_kernels_1.0_128_no_top.h5\n",
            "\u001b[1m9406464/9406464\u001b[0m \u001b[32m━━━━━━━━━━━━━━━━━━━━\u001b[0m\u001b[37m\u001b[0m \u001b[1m0s\u001b[0m 0us/step\n"
          ]
        },
        {
          "output_type": "stream",
          "name": "stderr",
          "text": [
            "/usr/local/lib/python3.12/dist-packages/keras/src/trainers/data_adapters/py_dataset_adapter.py:121: UserWarning: Your `PyDataset` class should call `super().__init__(**kwargs)` in its constructor. `**kwargs` can include `workers`, `use_multiprocessing`, `max_queue_size`. Do not pass these arguments to `fit()`, as they will be ignored.\n",
            "  self._warn_if_super_not_called()\n"
          ]
        },
        {
          "output_type": "stream",
          "name": "stdout",
          "text": [
            "Epoch 1/15\n",
            "\u001b[1m130/130\u001b[0m \u001b[32m━━━━━━━━━━━━━━━━━━━━\u001b[0m\u001b[37m\u001b[0m \u001b[1m159s\u001b[0m 1s/step - accuracy: 0.7464 - auc: 0.8329 - loss: 0.5120 - val_accuracy: 0.8789 - val_auc: 0.9547 - val_loss: 0.2933 - learning_rate: 1.0000e-05\n",
            "Epoch 2/15\n",
            "\u001b[1m  1/130\u001b[0m \u001b[37m━━━━━━━━━━━━━━━━━━━━\u001b[0m \u001b[1m1:01\u001b[0m 478ms/step - accuracy: 0.9375 - auc: 0.9960 - loss: 0.2724"
          ]
        },
        {
          "output_type": "stream",
          "name": "stderr",
          "text": [
            "/usr/local/lib/python3.12/dist-packages/keras/src/trainers/epoch_iterator.py:116: UserWarning: Your input ran out of data; interrupting training. Make sure that your dataset or generator can generate at least `steps_per_epoch * epochs` batches. You may need to use the `.repeat()` function when building your dataset.\n",
            "  self._interrupted_warning()\n"
          ]
        },
        {
          "output_type": "stream",
          "name": "stdout",
          "text": [
            "\b\b\b\b\b\b\b\b\b\b\b\b\b\b\b\b\b\b\b\b\b\b\b\b\b\b\b\b\b\b\b\b\b\b\b\b\b\b\b\b\b\b\b\b\b\b\b\b\b\b\b\b\b\b\b\b\b\b\b\b\b\b\b\b\b\b\b\b\b\b\b\b\b\b\b\b\b\b\b\b\b\b\b\b\b\b\b\b\b\b\b\b\r\u001b[1m130/130\u001b[0m \u001b[32m━━━━━━━━━━━━━━━━━━━━\u001b[0m\u001b[37m\u001b[0m \u001b[1m28s\u001b[0m 211ms/step - accuracy: 0.9375 - auc: 0.9960 - loss: 0.2724 - val_accuracy: 0.8633 - val_auc: 0.9408 - val_loss: 0.3135 - learning_rate: 1.0000e-05\n",
            "Epoch 3/15\n",
            "\u001b[1m130/130\u001b[0m \u001b[32m━━━━━━━━━━━━━━━━━━━━\u001b[0m\u001b[37m\u001b[0m \u001b[1m148s\u001b[0m 1s/step - accuracy: 0.8793 - auc: 0.9610 - loss: 0.2708 - val_accuracy: 0.8838 - val_auc: 0.9603 - val_loss: 0.2563 - learning_rate: 1.0000e-05\n",
            "Epoch 4/15\n",
            "\u001b[1m130/130\u001b[0m \u001b[32m━━━━━━━━━━━━━━━━━━━━\u001b[0m\u001b[37m\u001b[0m \u001b[1m41s\u001b[0m 313ms/step - accuracy: 0.8750 - auc: 1.0000 - loss: 0.2461 - val_accuracy: 0.8857 - val_auc: 0.9639 - val_loss: 0.2531 - learning_rate: 1.0000e-05\n",
            "Epoch 5/15\n",
            "\u001b[1m130/130\u001b[0m \u001b[32m━━━━━━━━━━━━━━━━━━━━\u001b[0m\u001b[37m\u001b[0m \u001b[1m202s\u001b[0m 2s/step - accuracy: 0.8971 - auc: 0.9707 - loss: 0.2251 - val_accuracy: 0.8887 - val_auc: 0.9636 - val_loss: 0.2413 - learning_rate: 1.0000e-05\n",
            "Epoch 6/15\n",
            "\u001b[1m130/130\u001b[0m \u001b[32m━━━━━━━━━━━━━━━━━━━━\u001b[0m\u001b[37m\u001b[0m \u001b[1m28s\u001b[0m 207ms/step - accuracy: 0.8750 - auc: 0.9409 - loss: 0.2579 - val_accuracy: 0.9053 - val_auc: 0.9658 - val_loss: 0.2281 - learning_rate: 1.0000e-05\n",
            "Epoch 7/15\n",
            "\u001b[1m130/130\u001b[0m \u001b[32m━━━━━━━━━━━━━━━━━━━━\u001b[0m\u001b[37m\u001b[0m \u001b[1m151s\u001b[0m 1s/step - accuracy: 0.9119 - auc: 0.9760 - loss: 0.2040 - val_accuracy: 0.9004 - val_auc: 0.9694 - val_loss: 0.2239 - learning_rate: 1.0000e-05\n",
            "Epoch 8/15\n",
            "\u001b[1m130/130\u001b[0m \u001b[32m━━━━━━━━━━━━━━━━━━━━\u001b[0m\u001b[37m\u001b[0m \u001b[1m28s\u001b[0m 215ms/step - accuracy: 0.9375 - auc: 0.9704 - loss: 0.1944 - val_accuracy: 0.9014 - val_auc: 0.9720 - val_loss: 0.2175 - learning_rate: 1.0000e-05\n",
            "Epoch 9/15\n",
            "\u001b[1m130/130\u001b[0m \u001b[32m━━━━━━━━━━━━━━━━━━━━\u001b[0m\u001b[37m\u001b[0m \u001b[1m149s\u001b[0m 1s/step - accuracy: 0.9206 - auc: 0.9794 - loss: 0.1868 - val_accuracy: 0.9180 - val_auc: 0.9807 - val_loss: 0.1807 - learning_rate: 1.0000e-05\n",
            "Epoch 10/15\n",
            "\u001b[1m130/130\u001b[0m \u001b[32m━━━━━━━━━━━━━━━━━━━━\u001b[0m\u001b[37m\u001b[0m \u001b[1m40s\u001b[0m 306ms/step - accuracy: 0.9375 - auc: 0.9855 - loss: 0.1633 - val_accuracy: 0.9102 - val_auc: 0.9750 - val_loss: 0.1924 - learning_rate: 1.0000e-05\n",
            "Epoch 11/15\n",
            "\u001b[1m130/130\u001b[0m \u001b[32m━━━━━━━━━━━━━━━━━━━━\u001b[0m\u001b[37m\u001b[0m \u001b[1m161s\u001b[0m 1s/step - accuracy: 0.9285 - auc: 0.9821 - loss: 0.1737 - val_accuracy: 0.9199 - val_auc: 0.9758 - val_loss: 0.1829 - learning_rate: 1.0000e-05\n",
            "Epoch 12/15\n",
            "\u001b[1m130/130\u001b[0m \u001b[32m━━━━━━━━━━━━━━━━━━━━\u001b[0m\u001b[37m\u001b[0m \u001b[1m28s\u001b[0m 211ms/step - accuracy: 0.9062 - auc: 0.9855 - loss: 0.1552 - val_accuracy: 0.9219 - val_auc: 0.9752 - val_loss: 0.1883 - learning_rate: 1.0000e-05\n",
            "Epoch 13/15\n",
            "\u001b[1m130/130\u001b[0m \u001b[32m━━━━━━━━━━━━━━━━━━━━\u001b[0m\u001b[37m\u001b[0m \u001b[1m202s\u001b[0m 2s/step - accuracy: 0.9351 - auc: 0.9852 - loss: 0.1568 - val_accuracy: 0.9326 - val_auc: 0.9804 - val_loss: 0.1689 - learning_rate: 5.0000e-06\n",
            "Epoch 14/15\n",
            "\u001b[1m130/130\u001b[0m \u001b[32m━━━━━━━━━━━━━━━━━━━━\u001b[0m\u001b[37m\u001b[0m \u001b[1m41s\u001b[0m 308ms/step - accuracy: 0.9375 - auc: 1.0000 - loss: 0.1019 - val_accuracy: 0.9326 - val_auc: 0.9812 - val_loss: 0.1620 - learning_rate: 5.0000e-06\n",
            "Epoch 15/15\n",
            "\u001b[1m130/130\u001b[0m \u001b[32m━━━━━━━━━━━━━━━━━━━━\u001b[0m\u001b[37m\u001b[0m \u001b[1m147s\u001b[0m 1s/step - accuracy: 0.9321 - auc: 0.9827 - loss: 0.1671 - val_accuracy: 0.9482 - val_auc: 0.9851 - val_loss: 0.1499 - learning_rate: 5.0000e-06\n",
            "Validation Accuracy: 0.94, AUC: 0.98\n",
            "\u001b[1m33/33\u001b[0m \u001b[32m━━━━━━━━━━━━━━━━━━━━\u001b[0m\u001b[37m\u001b[0m \u001b[1m30s\u001b[0m 852ms/step\n"
          ]
        },
        {
          "output_type": "display_data",
          "data": {
            "text/plain": [
              "<Figure size 600x600 with 2 Axes>"
            ],
            "image/png": "[encoded data removed]"
          },
          "metadata": {}
        }
      ]
    },
    {
      "cell_type": "code",
      "source": [
        "import os\n",
        "print(os.listdir('/content/drive'))"
      ],
      "metadata": {
        "colab": {
          "base_uri": "https://localhost:8080/"
        },
        "id": "_mzM_LcMkoSJ",
        "outputId": "2708f6e5-ea37-415a-9d38-44169f400165"
      },
      "execution_count": 6,
      "outputs": [
        {
          "output_type": "stream",
          "name": "stdout",
          "text": [
            "['.shortcut-targets-by-id', 'MyDrive', '.Trash-0', '.Encrypted']\n"
          ]
        }
      ]
    }
  ]
}