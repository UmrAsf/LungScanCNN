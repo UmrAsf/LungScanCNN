{
  "cells": [
    {
      "cell_type": "markdown",
      "metadata": {
        "id": "view-in-github",
        "colab_type": "text"
      },
      "source": [
        "<a href=\"https://colab.research.google.com/github/UmrAsf/LungScanCNN/blob/main/CSEECNN.ipynb\" target=\"_parent\"><img src=\"https://colab.research.google.com/assets/colab-badge.svg\" alt=\"Open In Colab\"/></a>"
      ]
    },
    {
      "cell_type": "code",
      "execution_count": null,
      "metadata": {
        "colab": {
          "base_uri": "https://localhost:8080/"
        },
        "id": "PL24cGGN5DGY",
        "outputId": "9e671271-6d66-489d-ab1b-e37b54641577"
      },
      "outputs": [
        {
          "name": "stdout",
          "output_type": "stream",
          "text": [
            "Drive already mounted at /content/drive; to attempt to forcibly remount, call drive.mount(\"/content/drive\", force_remount=True).\n"
          ]
        }
      ],
      "source": [
        "from google.colab import drive\n",
        "drive.mount('/content/drive')"
      ]
    },
    {
      "cell_type": "code",
      "execution_count": null,
      "metadata": {
        "id": "-E7Mijec5GBl"
      },
      "outputs": [],
      "source": [
        "import zipfile\n",
        "\n",
        "zip_path = '/content/drive/My Drive/archive.zip'  # Replace with actual path\n",
        "with zipfile.ZipFile(zip_path, 'r') as zip_ref:\n",
        "    zip_ref.extractall('/content')  # Extracts contents to /content in Colab"
      ]
    },
    {
      "cell_type": "code",
      "execution_count": null,
      "metadata": {
        "id": "romLPSTH7zWv"
      },
      "outputs": [],
      "source": [
        "train_dir = '/content/chest_xray/train'\n",
        "val_dir = '/content/chest_xray/val'\n",
        "test_dir = '/content/chest_xray/test'"
      ]
    },
    {
      "cell_type": "code",
      "execution_count": null,
      "metadata": {
        "colab": {
          "background_save": true,
          "base_uri": "https://localhost:8080/"
        },
        "id": "W_GkmRPh8Ltd",
        "outputId": "e763bc08-b758-402d-9f73-17f579c18c24"
      },
      "outputs": [
        {
          "name": "stdout",
          "output_type": "stream",
          "text": [
            "Found 4173 images belonging to 2 classes.\n",
            "Found 1043 images belonging to 2 classes.\n"
          ]
        },
        {
          "name": "stderr",
          "output_type": "stream",
          "text": [
            "/usr/local/lib/python3.12/dist-packages/keras/src/trainers/data_adapters/py_dataset_adapter.py:121: UserWarning: Your `PyDataset` class should call `super().__init__(**kwargs)` in its constructor. `**kwargs` can include `workers`, `use_multiprocessing`, `max_queue_size`. Do not pass these arguments to `fit()`, as they will be ignored.\n",
            "  self._warn_if_super_not_called()\n"
          ]
        },
        {
          "name": "stdout",
          "output_type": "stream",
          "text": [
            "Epoch 1/15\n",
            "\u001b[1m130/130\u001b[0m \u001b[32m━━━━━━━━━━━━━━━━━━━━\u001b[0m\u001b[37m\u001b[0m \u001b[1m311s\u001b[0m 2s/step - accuracy: 0.8463 - auc: 0.8653 - loss: 0.5066 - val_accuracy: 0.9160 - val_auc: 0.9874 - val_loss: 0.1882\n",
            "Epoch 2/15\n",
            "\u001b[1m  1/130\u001b[0m \u001b[37m━━━━━━━━━━━━━━━━━━━━\u001b[0m \u001b[1m2:15\u001b[0m 1s/step - accuracy: 0.9375 - auc: 0.9744 - loss: 0.1432"
          ]
        },
        {
          "name": "stderr",
          "output_type": "stream",
          "text": [
            "/usr/local/lib/python3.12/dist-packages/keras/src/trainers/epoch_iterator.py:116: UserWarning: Your input ran out of data; interrupting training. Make sure that your dataset or generator can generate at least `steps_per_epoch * epochs` batches. You may need to use the `.repeat()` function when building your dataset.\n",
            "  self._interrupted_warning()\n"
          ]
        },
        {
          "name": "stdout",
          "output_type": "stream",
          "text": [
            "\u001b[1m130/130\u001b[0m \u001b[32m━━━━━━━━━━━━━━━━━━━━\u001b[0m\u001b[37m\u001b[0m \u001b[1m58s\u001b[0m 444ms/step - accuracy: 0.9375 - auc: 0.9744 - loss: 0.1432 - val_accuracy: 0.9043 - val_auc: 0.9860 - val_loss: 0.2120\n",
            "Epoch 3/15\n",
            "\u001b[1m130/130\u001b[0m \u001b[32m━━━━━━━━━━━━━━━━━━━━\u001b[0m\u001b[37m\u001b[0m \u001b[1m318s\u001b[0m 2s/step - accuracy: 0.9456 - auc: 0.9840 - loss: 0.1395 - val_accuracy: 0.9561 - val_auc: 0.9886 - val_loss: 0.1300\n",
            "Epoch 4/15\n",
            "\u001b[1m130/130\u001b[0m \u001b[32m━━━━━━━━━━━━━━━━━━━━\u001b[0m\u001b[37m\u001b[0m \u001b[1m59s\u001b[0m 448ms/step - accuracy: 1.0000 - auc: 1.0000 - loss: 0.0387 - val_accuracy: 0.9424 - val_auc: 0.9871 - val_loss: 0.1550\n",
            "Epoch 5/15\n",
            "\u001b[1m130/130\u001b[0m \u001b[32m━━━━━━━━━━━━━━━━━━━━\u001b[0m\u001b[37m\u001b[0m \u001b[1m317s\u001b[0m 2s/step - accuracy: 0.9511 - auc: 0.9878 - loss: 0.1229 - val_accuracy: 0.9434 - val_auc: 0.9909 - val_loss: 0.1407\n",
            "Epoch 6/15\n",
            "\u001b[1m130/130\u001b[0m \u001b[32m━━━━━━━━━━━━━━━━━━━━\u001b[0m\u001b[37m\u001b[0m \u001b[1m82s\u001b[0m 630ms/step - accuracy: 1.0000 - auc: 1.0000 - loss: 0.0472 - val_accuracy: 0.9326 - val_auc: 0.9910 - val_loss: 0.1626\n",
            "Epoch 7/15\n",
            "\u001b[1m130/130\u001b[0m \u001b[32m━━━━━━━━━━━━━━━━━━━━\u001b[0m\u001b[37m\u001b[0m \u001b[1m310s\u001b[0m 2s/step - accuracy: 0.9529 - auc: 0.9916 - loss: 0.1047 - val_accuracy: 0.9482 - val_auc: 0.9916 - val_loss: 0.1235\n",
            "Epoch 8/15\n",
            "\u001b[1m130/130\u001b[0m \u001b[32m━━━━━━━━━━━━━━━━━━━━\u001b[0m\u001b[37m\u001b[0m \u001b[1m61s\u001b[0m 462ms/step - accuracy: 0.9688 - auc: 1.0000 - loss: 0.0759 - val_accuracy: 0.9561 - val_auc: 0.9944 - val_loss: 0.1047\n",
            "Epoch 9/15\n",
            "\u001b[1m130/130\u001b[0m \u001b[32m━━━━━━━━━━━━━━━━━━━━\u001b[0m\u001b[37m\u001b[0m \u001b[1m302s\u001b[0m 2s/step - accuracy: 0.9686 - auc: 0.9950 - loss: 0.0793 - val_accuracy: 0.9492 - val_auc: 0.9914 - val_loss: 0.1104\n",
            "Epoch 10/15\n",
            "\u001b[1m130/130\u001b[0m \u001b[32m━━━━━━━━━━━━━━━━━━━━\u001b[0m\u001b[37m\u001b[0m \u001b[1m59s\u001b[0m 445ms/step - accuracy: 1.0000 - auc: 1.0000 - loss: 0.0551 - val_accuracy: 0.9531 - val_auc: 0.9941 - val_loss: 0.1090\n",
            "Epoch 11/15\n",
            "\u001b[1m130/130\u001b[0m \u001b[32m━━━━━━━━━━━━━━━━━━━━\u001b[0m\u001b[37m\u001b[0m \u001b[1m294s\u001b[0m 2s/step - accuracy: 0.9645 - auc: 0.9943 - loss: 0.0847 - val_accuracy: 0.9521 - val_auc: 0.9924 - val_loss: 0.1069\n",
            "Epoch 12/15\n",
            "\u001b[1m130/130\u001b[0m \u001b[32m━━━━━━━━━━━━━━━━━━━━\u001b[0m\u001b[37m\u001b[0m \u001b[1m63s\u001b[0m 472ms/step - accuracy: 1.0000 - auc: 1.0000 - loss: 0.0128 - val_accuracy: 0.9600 - val_auc: 0.9939 - val_loss: 0.0879\n",
            "Epoch 13/15\n",
            "\u001b[1m130/130\u001b[0m \u001b[32m━━━━━━━━━━━━━━━━━━━━\u001b[0m\u001b[37m\u001b[0m \u001b[1m304s\u001b[0m 2s/step - accuracy: 0.9711 - auc: 0.9961 - loss: 0.0706 - val_accuracy: 0.9502 - val_auc: 0.9932 - val_loss: 0.1204\n",
            "Epoch 14/15\n",
            "\u001b[1m130/130\u001b[0m \u001b[32m━━━━━━━━━━━━━━━━━━━━\u001b[0m\u001b[37m\u001b[0m \u001b[1m81s\u001b[0m 615ms/step - accuracy: 0.8438 - auc: 0.9719 - loss: 0.3120 - val_accuracy: 0.9609 - val_auc: 0.9943 - val_loss: 0.1039\n",
            "Epoch 15/15\n",
            "\u001b[1m130/130\u001b[0m \u001b[32m━━━━━━━━━━━━━━━━━━━━\u001b[0m\u001b[37m\u001b[0m \u001b[1m297s\u001b[0m 2s/step - accuracy: 0.9676 - auc: 0.9945 - loss: 0.0825 - val_accuracy: 0.9609 - val_auc: 0.9932 - val_loss: 0.0979\n",
            "Validation Accuracy: 0.96, AUC: 0.99\n",
            "\u001b[1m33/33\u001b[0m \u001b[32m━━━━━━━━━━━━━━━━━━━━\u001b[0m\u001b[37m\u001b[0m \u001b[1m61s\u001b[0m 2s/step\n"
          ]
        },
        {
          "data": {
            "image/png": "[encoded data removed]",
            "text/plain": [
              "<Figure size 600x600 with 2 Axes>"
            ]
          },
          "metadata": {},
          "output_type": "display_data"
        }
      ],
      "source": [
        "# Import necessary libraries\n",
        "import tensorflow as tf\n",
        "from tensorflow.keras.models import Model\n",
        "from tensorflow.keras.layers import Dense, GlobalAveragePooling2D, Input\n",
        "from tensorflow.keras.preprocessing.image import ImageDataGenerator\n",
        "from sklearn.metrics import confusion_matrix\n",
        "import numpy as np\n",
        "import matplotlib.pyplot as plt\n",
        "import seaborn as sns\n",
        "\n",
        "# Define the paths to the dataset directories\n",
        "train_dir = '/content/chest_xray/train'  # Only using train_dir here\n",
        "\n",
        "# Set image dimensions and batch size\n",
        "IMG_HEIGHT, IMG_WIDTH = 224, 224  # MobileNetV2 input size\n",
        "BATCH_SIZE = 32\n",
        "\n",
        "# Set up data generator with validation split\n",
        "train_datagen = ImageDataGenerator(\n",
        "    rescale=1./255,\n",
        "    rotation_range=20,\n",
        "    brightness_range=[1.2, 1.5],\n",
        "    horizontal_flip=True,\n",
        "    validation_split=0.2  # Use 20% of training data as validation\n",
        ")\n",
        "\n",
        "# Load training and validation data using subset\n",
        "train_generator = train_datagen.flow_from_directory(\n",
        "    train_dir,\n",
        "    target_size=(IMG_HEIGHT, IMG_WIDTH),\n",
        "    color_mode='rgb',\n",
        "    batch_size=BATCH_SIZE,\n",
        "    class_mode='binary',\n",
        "    subset='training'\n",
        ")\n",
        "\n",
        "val_generator = train_datagen.flow_from_directory(\n",
        "    train_dir,\n",
        "    target_size=(IMG_HEIGHT, IMG_WIDTH),\n",
        "    color_mode='rgb',\n",
        "    batch_size=BATCH_SIZE,\n",
        "    class_mode='binary',\n",
        "    subset='validation'\n",
        ")\n",
        "\n",
        "# Load MobileNetV2 without the top layer for transfer learning\n",
        "base_model = tf.keras.applications.MobileNetV2(\n",
        "    input_shape=(IMG_HEIGHT, IMG_WIDTH, 3),\n",
        "    include_top=False,\n",
        "    weights='imagenet'\n",
        ")\n",
        "base_model.trainable = False  # Freeze the base model layers\n",
        "\n",
        "# Add custom classification layers\n",
        "inputs = Input(shape=(IMG_HEIGHT, IMG_WIDTH, 3))\n",
        "x = base_model(inputs, training=False)\n",
        "x = GlobalAveragePooling2D()(x)  # Pooling layer\n",
        "x = Dense(1024, activation='relu')(x)  # Dense layer\n",
        "outputs = Dense(1, activation='sigmoid')(x)  # Output layer for binary classification\n",
        "\n",
        "model = Model(inputs, outputs)\n",
        "\n",
        "# Compile the model\n",
        "model.compile(optimizer='adam', loss='binary_crossentropy', metrics=['accuracy', tf.keras.metrics.AUC(name=\"auc\")])\n",
        "\n",
        "# Set up early stopping to prevent overfitting\n",
        "early_stopping = tf.keras.callbacks.EarlyStopping(\n",
        "    monitor='val_loss',\n",
        "    patience=10,\n",
        "    restore_best_weights=True\n",
        ")\n",
        "\n",
        "# Calculate steps based on samples and batch size\n",
        "steps_per_epoch = train_generator.samples // BATCH_SIZE\n",
        "validation_steps = val_generator.samples // BATCH_SIZE\n",
        "\n",
        "# Train the model\n",
        "history = model.fit(\n",
        "    train_generator,\n",
        "    steps_per_epoch=steps_per_epoch,  # Calculated based on batch size\n",
        "    epochs=15,\n",
        "    validation_data=val_generator,\n",
        "    validation_steps=validation_steps,  # Calculated based on batch size\n",
        "    callbacks=[early_stopping]\n",
        ")\n",
        "\n",
        "\n",
        "# Evaluate the model on test data (use val_generator if you don't have a separate test set)\n",
        "test_loss, test_accuracy, test_auc = model.evaluate(val_generator, verbose=0)\n",
        "print(f\"Validation Accuracy: {test_accuracy:.2f}, AUC: {test_auc:.2f}\")\n",
        "\n",
        "# Generate confusion matrix\n",
        "y_true = val_generator.classes\n",
        "y_pred = model.predict(val_generator)\n",
        "y_pred = np.round(y_pred).flatten()  # Threshold at 0.5 for binary classification\n",
        "\n",
        "# Plot confusion matrix\n",
        "\n",
        "# Plot confusion matrix\n",
        "cm = confusion_matrix(y_true, y_pred)\n",
        "plt.figure(figsize=(6,6))\n",
        "sns.heatmap(cm, annot=True, fmt='d', cmap='Blues', xticklabels=['Normal', 'Pneumonia'], yticklabels=['Normal', 'Pneumonia'])\n",
        "plt.xlabel('Predicted')\n",
        "plt.ylabel('Actual')\n",
        "plt.title('Confusion Matrix')\n",
        "plt.show()"
      ]
    },
    {
      "cell_type": "code",
      "execution_count": null,
      "metadata": {
        "colab": {
          "background_save": true
        },
        "id": "1GmExoRCFOMY",
        "outputId": "8f8c6ed0-26e5-4946-e89c-e2d5c44f0ca9"
      },
      "outputs": [
        {
          "name": "stdout",
          "output_type": "stream",
          "text": [
            "Found 4173 images belonging to 2 classes.\n",
            "Found 1043 images belonging to 2 classes.\n"
          ]
        },
        {
          "name": "stderr",
          "output_type": "stream",
          "text": [
            "/usr/local/lib/python3.12/dist-packages/keras/src/trainers/data_adapters/py_dataset_adapter.py:121: UserWarning: Your `PyDataset` class should call `super().__init__(**kwargs)` in its constructor. `**kwargs` can include `workers`, `use_multiprocessing`, `max_queue_size`. Do not pass these arguments to `fit()`, as they will be ignored.\n",
            "  self._warn_if_super_not_called()\n"
          ]
        },
        {
          "name": "stdout",
          "output_type": "stream",
          "text": [
            "Epoch 1/15\n",
            "\u001b[1m130/130\u001b[0m \u001b[32m━━━━━━━━━━━━━━━━━━━━\u001b[0m\u001b[37m\u001b[0m \u001b[1m146s\u001b[0m 1s/step - accuracy: 0.7966 - auc: 0.8706 - loss: 0.4888 - val_accuracy: 0.8311 - val_auc: 0.9460 - val_loss: 0.3341 - learning_rate: 1.0000e-05\n",
            "Epoch 2/15\n",
            "\u001b[1m  1/130\u001b[0m \u001b[37m━━━━━━━━━━━━━━━━━━━━\u001b[0m \u001b[1m1:14\u001b[0m 578ms/step - accuracy: 0.9062 - auc: 0.9855 - loss: 0.2611"
          ]
        },
        {
          "name": "stderr",
          "output_type": "stream",
          "text": [
            "/usr/local/lib/python3.12/dist-packages/keras/src/trainers/epoch_iterator.py:116: UserWarning: Your input ran out of data; interrupting training. Make sure that your dataset or generator can generate at least `steps_per_epoch * epochs` batches. You may need to use the `.repeat()` function when building your dataset.\n",
            "  self._interrupted_warning()\n"
          ]
        },
        {
          "name": "stdout",
          "output_type": "stream",
          "text": [
            "\u001b[1m130/130\u001b[0m \u001b[32m━━━━━━━━━━━━━━━━━━━━\u001b[0m\u001b[37m\u001b[0m \u001b[1m26s\u001b[0m 195ms/step - accuracy: 0.9062 - auc: 0.9855 - loss: 0.2611 - val_accuracy: 0.8271 - val_auc: 0.9518 - val_loss: 0.3257 - learning_rate: 1.0000e-05\n",
            "Epoch 3/15\n",
            "\u001b[1m130/130\u001b[0m \u001b[32m━━━━━━━━━━━━━━━━━━━━\u001b[0m\u001b[37m\u001b[0m \u001b[1m171s\u001b[0m 995ms/step - accuracy: 0.8944 - auc: 0.9656 - loss: 0.2531 - val_accuracy: 0.8496 - val_auc: 0.9628 - val_loss: 0.2911 - learning_rate: 1.0000e-05\n",
            "Epoch 4/15\n",
            "\u001b[1m130/130\u001b[0m \u001b[32m━━━━━━━━━━━━━━━━━━━━\u001b[0m\u001b[37m\u001b[0m \u001b[1m25s\u001b[0m 187ms/step - accuracy: 0.8750 - auc: 0.9542 - loss: 0.3434 - val_accuracy: 0.8379 - val_auc: 0.9524 - val_loss: 0.3240 - learning_rate: 1.0000e-05\n",
            "Epoch 5/15\n",
            "\u001b[1m130/130\u001b[0m \u001b[32m━━━━━━━━━━━━━━━━━━━━\u001b[0m\u001b[37m\u001b[0m \u001b[1m185s\u001b[0m 1s/step - accuracy: 0.8976 - auc: 0.9695 - loss: 0.2274 - val_accuracy: 0.8613 - val_auc: 0.9644 - val_loss: 0.2746 - learning_rate: 1.0000e-05\n",
            "Epoch 6/15\n",
            "\u001b[1m130/130\u001b[0m \u001b[32m━━━━━━━━━━━━━━━━━━━━\u001b[0m\u001b[37m\u001b[0m \u001b[1m25s\u001b[0m 189ms/step - accuracy: 0.9062 - auc: 1.0000 - loss: 0.1510 - val_accuracy: 0.8613 - val_auc: 0.9587 - val_loss: 0.2962 - learning_rate: 1.0000e-05\n",
            "Epoch 7/15\n",
            "\u001b[1m130/130\u001b[0m \u001b[32m━━━━━━━━━━━━━━━━━━━━\u001b[0m\u001b[37m\u001b[0m \u001b[1m171s\u001b[0m 1s/step - accuracy: 0.9189 - auc: 0.9733 - loss: 0.2106 - val_accuracy: 0.8730 - val_auc: 0.9725 - val_loss: 0.2525 - learning_rate: 1.0000e-05\n",
            "Epoch 8/15\n",
            "\u001b[1m130/130\u001b[0m \u001b[32m━━━━━━━━━━━━━━━━━━━━\u001b[0m\u001b[37m\u001b[0m \u001b[1m26s\u001b[0m 196ms/step - accuracy: 0.9375 - auc: 1.0000 - loss: 0.1072 - val_accuracy: 0.8828 - val_auc: 0.9686 - val_loss: 0.2501 - learning_rate: 1.0000e-05\n",
            "Epoch 9/15\n",
            "\u001b[1m130/130\u001b[0m \u001b[32m━━━━━━━━━━━━━━━━━━━━\u001b[0m\u001b[37m\u001b[0m \u001b[1m141s\u001b[0m 1s/step - accuracy: 0.9294 - auc: 0.9813 - loss: 0.1798 - val_accuracy: 0.8916 - val_auc: 0.9707 - val_loss: 0.2340 - learning_rate: 1.0000e-05\n",
            "Epoch 10/15\n",
            "\u001b[1m130/130\u001b[0m \u001b[32m━━━━━━━━━━━━━━━━━━━━\u001b[0m\u001b[37m\u001b[0m \u001b[1m27s\u001b[0m 203ms/step - accuracy: 0.9688 - auc: 1.0000 - loss: 0.1285 - val_accuracy: 0.8945 - val_auc: 0.9744 - val_loss: 0.2204 - learning_rate: 1.0000e-05\n",
            "Epoch 11/15\n",
            "\u001b[1m130/130\u001b[0m \u001b[32m━━━━━━━━━━━━━━━━━━━━\u001b[0m\u001b[37m\u001b[0m \u001b[1m165s\u001b[0m 1s/step - accuracy: 0.9387 - auc: 0.9827 - loss: 0.1681 - val_accuracy: 0.9053 - val_auc: 0.9784 - val_loss: 0.1966 - learning_rate: 1.0000e-05\n",
            "Epoch 12/15\n",
            "\u001b[1m130/130\u001b[0m \u001b[32m━━━━━━━━━━━━━━━━━━━━\u001b[0m\u001b[37m\u001b[0m \u001b[1m25s\u001b[0m 190ms/step - accuracy: 1.0000 - auc: 1.0000 - loss: 0.0779 - val_accuracy: 0.9082 - val_auc: 0.9773 - val_loss: 0.2029 - learning_rate: 1.0000e-05\n",
            "Epoch 13/15\n",
            "\u001b[1m130/130\u001b[0m \u001b[32m━━━━━━━━━━━━━━━━━━━━\u001b[0m\u001b[37m\u001b[0m \u001b[1m202s\u001b[0m 1s/step - accuracy: 0.9299 - auc: 0.9811 - loss: 0.1759 - val_accuracy: 0.9248 - val_auc: 0.9824 - val_loss: 0.1691 - learning_rate: 1.0000e-05\n",
            "Epoch 14/15\n",
            "\u001b[1m130/130\u001b[0m \u001b[32m━━━━━━━━━━━━━━━━━━━━\u001b[0m\u001b[37m\u001b[0m \u001b[1m23s\u001b[0m 175ms/step - accuracy: 0.9375 - auc: 0.9614 - loss: 0.2104 - val_accuracy: 0.9102 - val_auc: 0.9773 - val_loss: 0.1849 - learning_rate: 1.0000e-05\n",
            "Epoch 15/15\n",
            "\u001b[1m130/130\u001b[0m \u001b[32m━━━━━━━━━━━━━━━━━━━━\u001b[0m\u001b[37m\u001b[0m \u001b[1m203s\u001b[0m 1s/step - accuracy: 0.9307 - auc: 0.9826 - loss: 0.1683 - val_accuracy: 0.9434 - val_auc: 0.9848 - val_loss: 0.1467 - learning_rate: 1.0000e-05\n",
            "Validation Accuracy: 0.94, AUC: 0.98\n",
            "\u001b[1m33/33\u001b[0m \u001b[32m━━━━━━━━━━━━━━━━━━━━\u001b[0m\u001b[37m\u001b[0m \u001b[1m27s\u001b[0m 735ms/step\n"
          ]
        },
        {
          "data": {
            "image/png": "[encoded data removed]",
            "text/plain": [
              "<Figure size 600x600 with 2 Axes>"
            ]
          },
          "metadata": {},
          "output_type": "display_data"
        }
      ],
      "source": [
        "# Import necessary libraries\n",
        "import tensorflow as tf\n",
        "from tensorflow.keras.models import Model\n",
        "from tensorflow.keras.layers import Dense, GlobalAveragePooling2D, Input\n",
        "from tensorflow.keras.preprocessing.image import ImageDataGenerator\n",
        "from sklearn.utils import class_weight\n",
        "from sklearn.metrics import confusion_matrix\n",
        "import numpy as np\n",
        "import matplotlib.pyplot as plt\n",
        "import seaborn as sns\n",
        "\n",
        "# Define the paths to the dataset directories\n",
        "train_dir = '/content/chest_xray/train'\n",
        "\n",
        "# Set image dimensions and batch size\n",
        "IMG_HEIGHT, IMG_WIDTH = 128, 128  # Using MobileNetV2 input size\n",
        "BATCH_SIZE = 32\n",
        "\n",
        "# Set up data generator with additional augmentations\n",
        "train_datagen = ImageDataGenerator(\n",
        "    rescale=1./255,\n",
        "    rotation_range=30,\n",
        "    zoom_range=0.2,\n",
        "    shear_range=0.2,\n",
        "    brightness_range=[0.8, 1.2],\n",
        "    horizontal_flip=True,\n",
        "    validation_split=0.2  # 20% of training data as validation\n",
        ")\n",
        "\n",
        "# Create training and validation generators\n",
        "train_generator = train_datagen.flow_from_directory(\n",
        "    train_dir,\n",
        "    target_size=(IMG_HEIGHT, IMG_WIDTH),\n",
        "    color_mode='rgb',\n",
        "    batch_size=BATCH_SIZE,\n",
        "    class_mode='binary',\n",
        "    subset='training'\n",
        ")\n",
        "\n",
        "val_generator = train_datagen.flow_from_directory(\n",
        "    train_dir,\n",
        "    target_size=(IMG_HEIGHT, IMG_WIDTH),\n",
        "    color_mode='rgb',\n",
        "    batch_size=BATCH_SIZE,\n",
        "    class_mode='binary',\n",
        "    subset='validation'\n",
        ")\n",
        "\n",
        "# Calculate class weights for imbalanced data\n",
        "class_weights = class_weight.compute_class_weight(\n",
        "    class_weight='balanced',\n",
        "    classes=np.unique(train_generator.classes),\n",
        "    y=train_generator.classes\n",
        ")\n",
        "class_weights = dict(enumerate(class_weights))\n",
        "\n",
        "# Load MobileNetV2 without the top layer for transfer learning\n",
        "base_model = tf.keras.applications.MobileNetV2(\n",
        "    input_shape=(IMG_HEIGHT, IMG_WIDTH, 3),\n",
        "    include_top=False,\n",
        "    weights='imagenet'\n",
        ")\n",
        "\n",
        "# Unfreeze the last few layers of the base model for fine-tuning\n",
        "for layer in base_model.layers[:-10]:  # Adjust -10 based on available memory\n",
        "    layer.trainable = False\n",
        "base_model.trainable = True\n",
        "\n",
        "# Add custom classification layers\n",
        "inputs = Input(shape=(IMG_HEIGHT, IMG_WIDTH, 3))\n",
        "x = base_model(inputs, training=True)\n",
        "x = GlobalAveragePooling2D()(x)  # Pooling layer\n",
        "x = Dense(1024, activation='relu')(x)  # Dense layer\n",
        "outputs = Dense(1, activation='sigmoid')(x)  # Output layer for binary classification\n",
        "\n",
        "model = Model(inputs, outputs)\n",
        "\n",
        "# Compile the model with a lower learning rate\n",
        "model.compile(optimizer=tf.keras.optimizers.Adam(learning_rate=1e-5),\n",
        "              loss='binary_crossentropy',\n",
        "              metrics=['accuracy', tf.keras.metrics.AUC(name=\"auc\")])\n",
        "\n",
        "# Set up callbacks: Early Stopping and ReduceLROnPlateau\n",
        "early_stopping = tf.keras.callbacks.EarlyStopping(\n",
        "    monitor='val_loss',\n",
        "    patience=5,\n",
        "    restore_best_weights=True\n",
        ")\n",
        "\n",
        "lr_schedule = tf.keras.callbacks.ReduceLROnPlateau(\n",
        "    monitor='val_loss',\n",
        "    factor=0.5,\n",
        "    patience=3,\n",
        "    min_lr=1e-6\n",
        ")\n",
        "\n",
        "# Calculate steps per epoch\n",
        "steps_per_epoch = train_generator.samples // BATCH_SIZE\n",
        "validation_steps = val_generator.samples // BATCH_SIZE\n",
        "\n",
        "# Train the model\n",
        "history = model.fit(\n",
        "    train_generator,\n",
        "    steps_per_epoch=steps_per_epoch,\n",
        "    epochs=15,  # Change to a higher number if needed\n",
        "    validation_data=val_generator,\n",
        "    validation_steps=validation_steps,\n",
        "    class_weight=class_weights,  # Apply class weights\n",
        "    callbacks=[early_stopping, lr_schedule]\n",
        ")\n",
        "\n",
        "# Evaluate the model on validation data\n",
        "val_loss, val_accuracy, val_auc = model.evaluate(val_generator, verbose=0)\n",
        "print(f\"Validation Accuracy: {val_accuracy:.2f}, AUC: {val_auc:.2f}\")\n",
        "\n",
        "# Generate confusion matrix\n",
        "y_true = val_generator.classes\n",
        "y_pred = model.predict(val_generator)\n",
        "y_pred = np.round(y_pred).flatten()  # Threshold at 0.5 for binary classification\n",
        "\n",
        "# Plot confusion matrix\n",
        "cm = confusion_matrix(y_true, y_pred)\n",
        "plt.figure(figsize=(6,6))\n",
        "sns.heatmap(cm, annot=True, fmt='d', cmap='Blues', xticklabels=['Normal', 'Pneumonia'], yticklabels=['Normal', 'Pneumonia'])\n",
        "plt.xlabel('Predicted')\n",
        "plt.ylabel('Actual')\n",
        "plt.title('Confusion Matrix')\n",
        "plt.show()"
      ]
    },
    {
      "cell_type": "code",
      "execution_count": null,
      "metadata": {
        "colab": {
          "background_save": true
        },
        "id": "_mzM_LcMkoSJ",
        "outputId": "d746d01e-1ee4-4f29-f0b4-546a1bef9677"
      },
      "outputs": [
        {
          "name": "stdout",
          "output_type": "stream",
          "text": [
            "['MyDrive', '.shortcut-targets-by-id', '.Trash-0', '.Encrypted']\n"
          ]
        }
      ],
      "source": [
        "import os\n",
        "print(os.listdir('/content/drive'))"
      ]
    }
  ],
  "metadata": {
    "colab": {
      "provenance": [],
      "authorship_tag": "ABX9TyOsqka2ZpcuJyvR6pAG5CU9",
      "include_colab_link": true
    },
    "kernelspec": {
      "display_name": "Python 3",
      "name": "python3"
    },
    "language_info": {
      "name": "python"
    }
  },
  "nbformat": 4,
  "nbformat_minor": 0
}